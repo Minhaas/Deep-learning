{
 "cells": [
  {
   "cell_type": "code",
   "execution_count": 1,
   "metadata": {},
   "outputs": [
    {
     "name": "stdout",
     "output_type": "stream",
     "text": [
      "Requirement already satisfied: torch in ./env/lib/python3.7/site-packages (1.10.2)\n",
      "Requirement already satisfied: torchvision in ./env/lib/python3.7/site-packages (0.11.3)\n",
      "Requirement already satisfied: typing-extensions in ./env/lib/python3.7/site-packages (from torch) (4.1.1)\n",
      "Requirement already satisfied: pillow!=8.3.0,>=5.3.0 in ./env/lib/python3.7/site-packages (from torchvision) (9.0.1)\n",
      "Requirement already satisfied: numpy in ./env/lib/python3.7/site-packages (from torchvision) (1.21.5)\n"
     ]
    }
   ],
   "source": [
    "import numpy as np\n",
    "import pandas as pd\n",
    "import sys\n",
    "!{sys.executable} -m pip install torch torchvision\n",
    "import torch\n",
    "import torchvision\n",
    "import matplotlib.pyplot as plt\n",
    "import torch.nn.functional as F"
   ]
  },
  {
   "cell_type": "code",
   "execution_count": 2,
   "metadata": {},
   "outputs": [
    {
     "name": "stdout",
     "output_type": "stream",
     "text": [
      "Files already downloaded and verified\n",
      "Files already downloaded and verified\n"
     ]
    }
   ],
   "source": [
    "Transform = torchvision.transforms.Compose([torchvision.transforms.Grayscale(num_output_channels=1),torchvision.transforms.ToTensor()])\n",
    "trainingdata = torchvision.datasets.CIFAR10('./CIFAR10/', train = True, download=True, transform=Transform)\n",
    "testingdata = torchvision.datasets.CIFAR10('./CIFAR10/', train = False, download=True, transform=Transform)"
   ]
  },
  {
   "cell_type": "code",
   "execution_count": 3,
   "metadata": {},
   "outputs": [
    {
     "name": "stdout",
     "output_type": "stream",
     "text": [
      "[1, 32, 32] 6 1024 10\n"
     ]
    }
   ],
   "source": [
    "image, label = trainingdata[0]\n",
    "arr = image.numpy()\n",
    "inputs = list(arr.shape)\n",
    "output_size = 10\n",
    "input_size = 1*32*32\n",
    "# for elem in inputs:\n",
    "#     input_size += input_size*elem\n",
    "print(inputs, label, input_size, output_size)"
   ]
  },
  {
   "cell_type": "code",
   "execution_count": 4,
   "metadata": {},
   "outputs": [
    {
     "data": {
      "image/png": "[encoded data removed]",
      "text/plain": [
       "<Figure size 432x288 with 1 Axes>"
      ]
     },
     "metadata": {
      "needs_background": "light"
     },
     "output_type": "display_data"
    }
   ],
   "source": [
    "%matplotlib inline\n",
    "plt.imshow(image.squeeze().numpy())\n",
    "plt.show()"
   ]
  },
  {
   "cell_type": "code",
   "execution_count": 5,
   "metadata": {},
   "outputs": [],
   "source": [
    "trainDataLoader = torch.utils.data.DataLoader(trainingdata,batch_size=64,shuffle=True)\n",
    "testDataLoader = torch.utils.data.DataLoader(testingdata,batch_size=64,shuffle=False)"
   ]
  },
  {
   "cell_type": "code",
   "execution_count": 6,
   "metadata": {},
   "outputs": [
    {
     "data": {
      "image/png": "[encoded data removed]",
      "text/plain": [
       "<Figure size 720x288 with 5 Axes>"
      ]
     },
     "metadata": {
      "needs_background": "light"
     },
     "output_type": "display_data"
    }
   ],
   "source": [
    "images, labels = iter(trainDataLoader).next()\n",
    "\n",
    "plt.figure(figsize=(10,4))\n",
    "for index in np.arange(0,5):\n",
    "  plt.subplot(1,5,index+1)\n",
    "  plt.imshow(images[index].squeeze().numpy(),cmap=plt.cm.gray)"
   ]
  },
  {
   "cell_type": "code",
   "execution_count": 7,
   "metadata": {},
   "outputs": [],
   "source": [
    "class CIFAR10(torch.nn.Module):\n",
    "    def __init__(self):\n",
    "        super(CIFAR10, self).__init__()\n",
    "        self.l1 = torch.nn.Linear(input_size, 256)\n",
    "        self.l2 = torch.nn.Linear(256, 128)\n",
    "        self.l3 = torch.nn.Linear(128, 64)\n",
    "        self.l4 = torch.nn.Linear(64, output_size)\n",
    "        \n",
    "    def forward(self, x):\n",
    "        out_x = x.view(x.size(0), -1)\n",
    "        out_x = self.l1(out_x)\n",
    "        out_x = F.relu(out_x)\n",
    "        out_x = self.l2(out_x)\n",
    "        out_x = F.relu(out_x)\n",
    "        out_x = self.l3(out_x)\n",
    "        out_x = F.relu(out_x)\n",
    "        out_x = self.l4(out_x)\n",
    "#         out_x = F.relu(out_x)\n",
    "        return out_x\n",
    "\n",
    "net = CIFAR10()\n",
    "loss = torch.nn.CrossEntropyLoss()\n",
    "optimizer = torch.optim.SGD(net.parameters(), lr = 0.01)"
   ]
  },
  {
   "cell_type": "code",
   "execution_count": 8,
   "metadata": {},
   "outputs": [
    {
     "name": "stdout",
     "output_type": "stream",
     "text": [
      "Epoch 0, Train loss 3.424653644756893, Test loss 3.3111496973948875\n",
      "Epoch 1, Train loss 3.268280443632999, Test loss 3.079309616878534\n",
      "Epoch 2, Train loss 3.0468386765331257, Test loss 3.022230409512854\n",
      "Epoch 3, Train loss 3.009879039681476, Test loss 2.9962322924547133\n",
      "Epoch 4, Train loss 2.9870924586835117, Test loss 2.984961892389188\n",
      "Epoch 5, Train loss 2.969335678593277, Test loss 2.9718058413001383\n",
      "Epoch 6, Train loss 2.951020523715202, Test loss 2.945237950914225\n",
      "Epoch 7, Train loss 2.930887020457431, Test loss 2.9343030877933383\n",
      "Epoch 8, Train loss 2.9115799976431807, Test loss 2.9142114463125823\n",
      "Epoch 9, Train loss 2.893844009665272, Test loss 2.9048246471745194\n",
      "Epoch 10, Train loss 2.8767290606218228, Test loss 2.880576206620332\n",
      "Epoch 11, Train loss 2.861055328717927, Test loss 2.8715146787606987\n",
      "Epoch 12, Train loss 2.846392863851679, Test loss 2.837128373467998\n",
      "Epoch 13, Train loss 2.748186054132174, Test loss 2.628864172917263\n",
      "Epoch 14, Train loss 2.6128553790814433, Test loss 2.66288254974754\n",
      "Epoch 15, Train loss 2.5918042891470674, Test loss 2.6121318325115617\n",
      "Epoch 16, Train loss 2.5751263543468, Test loss 2.597059304547158\n",
      "Epoch 17, Train loss 2.5595425378026255, Test loss 2.5625183870837946\n",
      "Epoch 18, Train loss 2.5430334525949814, Test loss 2.522495609939478\n",
      "Epoch 19, Train loss 2.263079058331297, Test loss 2.2306321289888613\n",
      "Epoch 20, Train loss 2.203150142184304, Test loss 2.2172387177777138\n",
      "Epoch 21, Train loss 2.175126432152965, Test loss 2.336397830088427\n",
      "Epoch 22, Train loss 2.155354873756009, Test loss 2.280121645350365\n",
      "Epoch 23, Train loss 2.1374242537466768, Test loss 2.1702993257789855\n",
      "Epoch 24, Train loss 2.120872823935945, Test loss 2.1481743815598215\n",
      "Epoch 25, Train loss 2.107039214552516, Test loss 2.1488498623963372\n",
      "Epoch 26, Train loss 2.094254345235312, Test loss 2.16511408007069\n",
      "Epoch 27, Train loss 2.083553607658962, Test loss 2.258413280651068\n",
      "Epoch 28, Train loss 2.0691921727736586, Test loss 2.1397012555675143\n",
      "Epoch 29, Train loss 2.059485306977616, Test loss 2.086778909537443\n"
     ]
    }
   ],
   "source": [
    "train_loss_history = []\n",
    "test_loss_history = []\n",
    "test_accuracy = []\n",
    "\n",
    "for epoch in range(30):\n",
    "    train_loss = 0.0\n",
    "    test_loss = 0.0\n",
    "    correct = 0\n",
    "    total = 0\n",
    "    for i, data in enumerate(trainDataLoader):\n",
    "        images, labels = data\n",
    "#         images = images.cuda()\n",
    "#         labels = labels.cuda()\n",
    "        optimizer.zero_grad()\n",
    "        predicted_output = net(images)\n",
    "        fit = loss(predicted_output,labels)\n",
    "        fit.backward()\n",
    "        optimizer.step()\n",
    "        train_loss += fit.item()\n",
    "    for i, data in enumerate(testDataLoader):\n",
    "        with torch.no_grad():\n",
    "            images, labels = data\n",
    "#                 images = images.cuda()\n",
    "#                 labels = labels.cuda()\n",
    "            predicted_output = net(images)\n",
    "            fit = loss(predicted_output,labels)\n",
    "            test_loss += fit.item()\n",
    "    train_loss = train_loss/len(trainDataLoader)\n",
    "    test_loss = test_loss/len(testDataLoader)\n",
    "    train_loss_history.append(train_loss)\n",
    "    test_loss_history.append(test_loss)\n",
    "    print('Epoch %s, Train loss %s, Test loss %s'%(epoch, train_loss, test_loss))"
   ]
  },
  {
   "cell_type": "code",
   "execution_count": 9,
   "metadata": {},
   "outputs": [
    {
     "data": {
      "text/plain": [
       "<matplotlib.legend.Legend at 0x7fb3179a9050>"
      ]
     },
     "execution_count": 9,
     "metadata": {},
     "output_type": "execute_result"
    },
    {
     "data": {
      "image/png": "[encoded data removed]",
      "text/plain": [
       "<Figure size 432x288 with 1 Axes>"
      ]
     },
     "metadata": {
      "needs_background": "light"
     },
     "output_type": "display_data"
    }
   ],
   "source": [
    "plt.plot(range(30),train_loss_history,'-',linewidth=3,label='Train error')\n",
    "plt.plot(range(30),test_loss_history,'-',linewidth=3,label='Test error')\n",
    "plt.xlabel('epoch')\n",
    "plt.ylabel('loss')\n",
    "plt.grid(True)\n",
    "plt.legend()"
   ]
  },
  {
   "cell_type": "code",
   "execution_count": 10,
   "metadata": {},
   "outputs": [
    {
     "name": "stdout",
     "output_type": "stream",
     "text": [
      "Accuracy:  56.25\n"
     ]
    }
   ],
   "source": [
    "print(\"Accuracy: \",\n",
    " (torch.eq(torch.max(predicted_output, 1)\n",
    " [1],labels).sum()/len(labels)*100).data.cpu().numpy())"
   ]
  },
  {
   "cell_type": "code",
   "execution_count": null,
   "metadata": {},
   "outputs": [],
   "source": []
  }
 ],
 "metadata": {
  "kernelspec": {
   "display_name": "Python 3 (ipykernel)",
   "language": "python",
   "name": "python3"
  },
  "language_info": {
   "codemirror_mode": {
    "name": "ipython",
    "version": 3
   },
   "file_extension": ".py",
   "mimetype": "text/x-python",
   "name": "python",
   "nbconvert_exporter": "python",
   "pygments_lexer": "ipython3",
   "version": "3.7.9"
  }
 },
 "nbformat": 4,
 "nbformat_minor": 4
}
